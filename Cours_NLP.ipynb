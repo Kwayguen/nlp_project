{
 "cells": [
  {
   "cell_type": "markdown",
   "metadata": {
    "id": "XB9ayf4VSJtn"
   },
   "source": [
    "# 📚 Cours de NLP avancé - Notebook pratique"
   ]
  },
  {
   "cell_type": "markdown",
   "metadata": {
    "id": "QwL1a_qMSOVs"
   },
   "source": [
    "## 🚀 Introduction au NLP\n",
    "- NLP : Traitement automatique du langage naturel, branche de l'IA.\n",
    "- Objectif : comprendre, interpréter, générer le langage humain."
   ]
  },
  {
   "cell_type": "markdown",
   "metadata": {
    "id": "YuyuQx7XQOhD"
   },
   "source": [
    "## 🛠️ Prétraitement de Texte\n",
    "\n",
    "### 1. Tokenisation"
   ]
  },
  {
   "cell_type": "code",
   "execution_count": 1,
   "metadata": {
    "executionInfo": {
     "elapsed": 15,
     "status": "ok",
     "timestamp": 1743166546458,
     "user": {
      "displayName": "Hugo Roumagne",
      "userId": "00690316938375875783"
     },
     "user_tz": -60
    },
    "id": "QrDeGZKazta6"
   },
   "outputs": [],
   "source": [
    "import warnings\n",
    "warnings.filterwarnings('ignore')"
   ]
  },
  {
   "cell_type": "code",
   "execution_count": 2,
   "metadata": {
    "colab": {
     "background_save": true,
     "base_uri": "https://localhost:8080/"
    },
    "executionInfo": {
     "elapsed": 21586,
     "status": "ok",
     "timestamp": 1743166570392,
     "user": {
      "displayName": "Hugo Roumagne",
      "userId": "00690316938375875783"
     },
     "user_tz": -60
    },
    "id": "8yZfcttKSv9M"
   },
   "outputs": [
    {
     "name": "stderr",
     "output_type": "stream",
     "text": [
      "[nltk_data] Downloading package punkt to /root/nltk_data...\n",
      "[nltk_data]   Unzipping tokenizers/punkt.zip.\n",
      "[nltk_data] Downloading package stopwords to /root/nltk_data...\n",
      "[nltk_data]   Unzipping corpora/stopwords.zip.\n",
      "[nltk_data] Downloading package punkt_tab to /root/nltk_data...\n",
      "[nltk_data]   Unzipping tokenizers/punkt_tab.zip.\n"
     ]
    },
    {
     "data": {
      "text/plain": [
       "True"
      ]
     },
     "execution_count": 2,
     "metadata": {},
     "output_type": "execute_result"
    }
   ],
   "source": [
    "import nltk\n",
    "nltk.download('punkt')\n",
    "nltk.download('stopwords')\n",
    "nltk.download('punkt_tab')"
   ]
  },
  {
   "cell_type": "code",
   "execution_count": 3,
   "metadata": {
    "colab": {
     "background_save": true,
     "base_uri": "https://localhost:8080/"
    },
    "executionInfo": {
     "elapsed": 122,
     "status": "ok",
     "timestamp": 1743166574921,
     "user": {
      "displayName": "Hugo Roumagne",
      "userId": "00690316938375875783"
     },
     "user_tz": -60
    },
    "id": "lfUAXFYiQoxv"
   },
   "outputs": [
    {
     "name": "stdout",
     "output_type": "stream",
     "text": [
      "Tokens (mots): ['Le', 'NLP', 'est', 'passionnant', '.', \"C'est\", 'une', 'branche', 'importante', 'de', \"l'IA\", '!']\n",
      "Tokens (phrases): ['Le NLP est passionnant.', \"C'est une branche importante de l'IA !\"]\n"
     ]
    }
   ],
   "source": [
    "from nltk.tokenize import word_tokenize, sent_tokenize\n",
    "\n",
    "texte = \"Le NLP est passionnant. C'est une branche importante de l'IA !\"\n",
    "tokens_mots = word_tokenize(texte, language='french')\n",
    "tokens_phrases = sent_tokenize(texte, language='french')\n",
    "\n",
    "print(\"Tokens (mots):\", tokens_mots)\n",
    "print(\"Tokens (phrases):\", tokens_phrases)"
   ]
  },
  {
   "cell_type": "markdown",
   "metadata": {
    "id": "bhDo1nYrQ_S8"
   },
   "source": [
    "### 2. Normalisation"
   ]
  },
  {
   "cell_type": "code",
   "execution_count": 4,
   "metadata": {
    "colab": {
     "base_uri": "https://localhost:8080/"
    },
    "executionInfo": {
     "elapsed": 14,
     "status": "ok",
     "timestamp": 1743166577317,
     "user": {
      "displayName": "Hugo Roumagne",
      "userId": "00690316938375875783"
     },
     "user_tz": -60
    },
    "id": "1pndI2TWQ56Z",
    "outputId": "556fc494-89d5-4b8e-a488-2fc80a95da2e"
   },
   "outputs": [
    {
     "name": "stdout",
     "output_type": "stream",
     "text": [
      "Texte normalisé : le nlp est incroyablement utile !\n"
     ]
    }
   ],
   "source": [
    "# Conversion du texte en minuscules pour réduire la variabilité.\n",
    "\n",
    "texte = \"Le NLP est INCROYABLEMENT Utile !\"\n",
    "texte_normalise = texte.lower()\n",
    "\n",
    "print(\"Texte normalisé :\", texte_normalise)\n"
   ]
  },
  {
   "cell_type": "markdown",
   "metadata": {
    "id": "y4HWtKm9RIzg"
   },
   "source": [
    "### 3. Suppression des stopwords"
   ]
  },
  {
   "cell_type": "code",
   "execution_count": 5,
   "metadata": {
    "colab": {
     "base_uri": "https://localhost:8080/"
    },
    "executionInfo": {
     "elapsed": 30,
     "status": "ok",
     "timestamp": 1743166580481,
     "user": {
      "displayName": "Hugo Roumagne",
      "userId": "00690316938375875783"
     },
     "user_tz": -60
    },
    "id": "y0jak8AzRHGd",
    "outputId": "51892126-110f-4eb9-e01f-08d82f802fa4"
   },
   "outputs": [
    {
     "name": "stdout",
     "output_type": "stream",
     "text": [
      "Tokens filtrés : ['NLP', 'très', 'intéressant', \"l'analyse\", 'texte']\n"
     ]
    }
   ],
   "source": [
    "# Élimination des mots courants peu informatifs.\n",
    "from nltk.corpus import stopwords\n",
    "\n",
    "texte = \"Le NLP est très intéressant pour l'analyse de texte\"\n",
    "stop_words = set(stopwords.words('french'))\n",
    "\n",
    "tokens = word_tokenize(texte, language='french')\n",
    "filtered_tokens = [w for w in tokens if w.lower() not in stop_words]\n",
    "\n",
    "print(\"Tokens filtrés :\", filtered_tokens)"
   ]
  },
  {
   "cell_type": "markdown",
   "metadata": {
    "id": "IIEnS4syRTZP"
   },
   "source": [
    "### 4. Lemmatisation"
   ]
  },
  {
   "cell_type": "code",
   "execution_count": 6,
   "metadata": {
    "colab": {
     "base_uri": "https://localhost:8080/"
    },
    "executionInfo": {
     "elapsed": 16578,
     "status": "ok",
     "timestamp": 1743166602803,
     "user": {
      "displayName": "Hugo Roumagne",
      "userId": "00690316938375875783"
     },
     "user_tz": -60
    },
    "id": "0VPO1-4kTNpA",
    "outputId": "afb06883-32cb-48d7-c19e-a19900ebdb71"
   },
   "outputs": [
    {
     "name": "stdout",
     "output_type": "stream",
     "text": [
      "Collecting fr-core-news-sm==3.8.0\n",
      "  Downloading https://github.com/explosion/spacy-models/releases/download/fr_core_news_sm-3.8.0/fr_core_news_sm-3.8.0-py3-none-any.whl (16.3 MB)\n",
      "\u001b[2K     \u001b[90m━━━━━━━━━━━━━━━━━━━━━━━━━━━━━━━━━━━━━━━━\u001b[0m \u001b[32m16.3/16.3 MB\u001b[0m \u001b[31m47.9 MB/s\u001b[0m eta \u001b[36m0:00:00\u001b[0m\n",
      "\u001b[?25hInstalling collected packages: fr-core-news-sm\n",
      "Successfully installed fr-core-news-sm-3.8.0\n",
      "\u001b[38;5;2m✔ Download and installation successful\u001b[0m\n",
      "You can now load the package via spacy.load('fr_core_news_sm')\n",
      "\u001b[38;5;3m⚠ Restart to reload dependencies\u001b[0m\n",
      "If you are in a Jupyter or Colab notebook, you may need to restart Python in\n",
      "order to load all the package's dependencies. You can do this by selecting the\n",
      "'Restart kernel' or 'Restart runtime' option.\n"
     ]
    }
   ],
   "source": [
    "# Installer le modèle français de spaCy\n",
    "!python -m spacy download fr_core_news_sm"
   ]
  },
  {
   "cell_type": "code",
   "execution_count": 7,
   "metadata": {
    "colab": {
     "base_uri": "https://localhost:8080/"
    },
    "executionInfo": {
     "elapsed": 24946,
     "status": "ok",
     "timestamp": 1743166636479,
     "user": {
      "displayName": "Hugo Roumagne",
      "userId": "00690316938375875783"
     },
     "user_tz": -60
    },
    "id": "qagLm8BmRXMf",
    "outputId": "bd0edd3a-830c-43a9-a176-3ce4cc4f08e2"
   },
   "outputs": [
    {
     "name": "stdout",
     "output_type": "stream",
     "text": [
      "Lemmes obtenus : ['le', 'étudiant', 'apprendre', 'le', 'utilisation', 'de', 'modèle', 'NLP', 'en', 'ingénierie']\n"
     ]
    }
   ],
   "source": [
    "# Transformer chaque mot en sa forme racine linguistique.\n",
    "import spacy\n",
    "\n",
    "nlp = spacy.load('fr_core_news_sm')\n",
    "texte = \"Les étudiants apprennent l'utilisation des modèles NLP en ingénierie\"\n",
    "doc = nlp(texte)\n",
    "\n",
    "lemmes = [token.lemma_ for token in doc]\n",
    "\n",
    "print(\"Lemmes obtenus :\", lemmes)"
   ]
  },
  {
   "cell_type": "code",
   "execution_count": null,
   "metadata": {
    "colab": {
     "base_uri": "https://localhost:8080/"
    },
    "executionInfo": {
     "elapsed": 43,
     "status": "ok",
     "timestamp": 1742654696709,
     "user": {
      "displayName": "Mohamed Echcharif EL JAZOULI",
      "userId": "06360884917850205108"
     },
     "user_tz": -60
    },
    "id": "DYdKLOc3UEt3",
    "outputId": "5f7dd02f-8092-43be-bf0d-24cc192d32f0"
   },
   "outputs": [
    {
     "name": "stdout",
     "output_type": "stream",
     "text": [
      "Mot: Les - Lemme: le - POS: DET\n",
      "Mot: étudiants - Lemme: étudiant - POS: NOUN\n",
      "Mot: apprennent - Lemme: apprendre - POS: VERB\n",
      "Mot: l' - Lemme: le - POS: DET\n",
      "Mot: utilisation - Lemme: utilisation - POS: NOUN\n",
      "Mot: des - Lemme: de - POS: ADP\n",
      "Mot: modèles - Lemme: modèle - POS: NOUN\n",
      "Mot: NLP - Lemme: NLP - POS: PROPN\n",
      "Mot: en - Lemme: en - POS: ADP\n",
      "Mot: ingénierie - Lemme: ingénierie - POS: NOUN\n",
      "Mot: . - Lemme: . - POS: PUNCT\n"
     ]
    }
   ],
   "source": [
    "texte = \"Les étudiants apprennent l'utilisation des modèles NLP en ingénierie.\"\n",
    "doc = nlp(texte)\n",
    "\n",
    "for token in doc:\n",
    "    print(f\"Mot: {token.text} - Lemme: {token.lemma_} - POS: {token.pos_}\")\n"
   ]
  },
  {
   "cell_type": "markdown",
   "metadata": {
    "id": "YCBJsyxKRdKg"
   },
   "source": [
    "### 🎯 Challenge : Construire son pipeline complet"
   ]
  },
  {
   "cell_type": "code",
   "execution_count": null,
   "metadata": {
    "colab": {
     "base_uri": "https://localhost:8080/"
    },
    "executionInfo": {
     "elapsed": 45,
     "status": "ok",
     "timestamp": 1742654563601,
     "user": {
      "displayName": "Mohamed Echcharif EL JAZOULI",
      "userId": "06360884917850205108"
     },
     "user_tz": -60
    },
    "id": "0KzWGnXaPyVo",
    "outputId": "8e98cffd-0bac-45e4-8544-27d9ba51b09e"
   },
   "outputs": [
    {
     "name": "stdout",
     "output_type": "stream",
     "text": [
      "Résultat du pipeline complet : ['étudiant', 'ingénieur', 'découvrir', 'base', 'nlp', 'interactif']\n"
     ]
    }
   ],
   "source": [
    "def preprocessing_pipeline(texte):\n",
    "    texte = texte.lower()\n",
    "    tokens = word_tokenize(texte, language='french')\n",
    "    tokens_filtrés = [mot for mot in tokens if mot not in stop_words and mot.isalpha()]\n",
    "    doc = nlp(\" \".join(tokens_filtrés))\n",
    "    lemmes = [token.lemma_ for token in doc]\n",
    "    return lemmes\n",
    "\n",
    "# Test\n",
    "resultat = preprocessing_pipeline(\"Les étudiants M2 Ingénieur découvrent les bases du NLP interactif !\")\n",
    "print(\"Résultat du pipeline complet :\", resultat)\n"
   ]
  },
  {
   "cell_type": "markdown",
   "metadata": {
    "id": "8xuwyo7PoaM3"
   },
   "source": [
    "## 📐 Représentation vectorielle : Exemple One Hot Encoding"
   ]
  },
  {
   "cell_type": "code",
   "execution_count": null,
   "metadata": {
    "colab": {
     "base_uri": "https://localhost:8080/"
    },
    "executionInfo": {
     "elapsed": 434,
     "status": "ok",
     "timestamp": 1742679295264,
     "user": {
      "displayName": "Mohamed Echcharif EL JAZOULI",
      "userId": "06360884917850205108"
     },
     "user_tz": -60
    },
    "id": "iQGpOqgFoZ4A",
    "outputId": "104accae-021f-4836-d65c-46ccbe5c3609"
   },
   "outputs": [
    {
     "name": "stdout",
     "output_type": "stream",
     "text": [
      "Phrase : 'je mange une banane' → Prédiction : fruit\n",
      "Phrase : 'elle conduit une moto' → Prédiction : autre\n"
     ]
    }
   ],
   "source": [
    "# Classification avec One Hot Encoding\n",
    "\n",
    "from sklearn.preprocessing import OneHotEncoder\n",
    "from sklearn.linear_model import LogisticRegression\n",
    "import pandas as pd\n",
    "\n",
    "# Corpus simple\n",
    "corpus = [\n",
    "    \"je mange une pomme\",         # fruit\n",
    "    \"je mange une poire\",         # fruit\n",
    "    \"il conduit une voiture\",     # autre\n",
    "    \"tu répares une voiture\"      # autre\n",
    "]\n",
    "\n",
    "# Labels associés\n",
    "labels = [\"fruit\", \"fruit\", \"autre\", \"autre\"]\n",
    "\n",
    "# Tokenisation\n",
    "tokens = [sentence.split() for sentence in corpus]\n",
    "\n",
    "# Construction du vocabulaire\n",
    "vocab = sorted(set(word for phrase in tokens for word in phrase))\n",
    "\n",
    "# Création du DataFrame avec chaque mot de chaque phrase\n",
    "flattened = [(i, word) for i, phrase in enumerate(tokens) for word in phrase]\n",
    "df = pd.DataFrame(flattened, columns=[\"phrase_id\", \"mot\"])\n",
    "\n",
    "# One-hot encoding des mots\n",
    "encoder = OneHotEncoder(handle_unknown='ignore')\n",
    "one_hot = encoder.fit_transform(df[[\"mot\"]]).toarray()\n",
    "\n",
    "# Regrouper par phrase pour obtenir un vecteur par phrase\n",
    "one_hot_df = pd.DataFrame(one_hot, columns=encoder.get_feature_names_out([\"mot\"]))\n",
    "one_hot_df[\"phrase_id\"] = df[\"phrase_id\"]\n",
    "vectors = one_hot_df.groupby(\"phrase_id\").sum().astype(int)\n",
    "\n",
    "# Entraînement du modèle\n",
    "clf = LogisticRegression()\n",
    "clf.fit(vectors, labels)\n",
    "\n",
    "# Test sur de nouvelles phrases\n",
    "test_phrases = [\n",
    "    \"je mange une banane\",     # devrait être fruit\n",
    "    \"elle conduit une moto\"    # devrait être autre\n",
    "]\n",
    "test_tokens = [s.split() for s in test_phrases]\n",
    "test_flattened = [(i, word) for i, phrase in enumerate(test_tokens) for word in phrase]\n",
    "df_test = pd.DataFrame(test_flattened, columns=[\"phrase_id\", \"mot\"])\n",
    "test_encoded = encoder.transform(df_test[[\"mot\"]]).toarray()\n",
    "df_test_encoded = pd.DataFrame(test_encoded, columns=encoder.get_feature_names_out([\"mot\"]))\n",
    "df_test_encoded[\"phrase_id\"] = df_test[\"phrase_id\"]\n",
    "X_test = df_test_encoded.groupby(\"phrase_id\").sum().astype(int)\n",
    "\n",
    "# Prédiction\n",
    "y_pred = clf.predict(X_test)\n",
    "\n",
    "# Résultat\n",
    "for phrase, pred in zip(test_phrases, y_pred):\n",
    "    print(f\"Phrase : '{phrase}' → Prédiction : {pred}\")"
   ]
  },
  {
   "cell_type": "markdown",
   "metadata": {
    "id": "oVitsx18yJCy"
   },
   "source": [
    "## 📐 Représentation vectorielle : Exemple Bag of Words"
   ]
  },
  {
   "cell_type": "code",
   "execution_count": null,
   "metadata": {
    "colab": {
     "base_uri": "https://localhost:8080/"
    },
    "executionInfo": {
     "elapsed": 52,
     "status": "ok",
     "timestamp": 1742681712017,
     "user": {
      "displayName": "Mohamed Echcharif EL JAZOULI",
      "userId": "06360884917850205108"
     },
     "user_tz": -60
    },
    "id": "W4qQgSBDyJvm",
    "outputId": "36660c87-3f48-42ef-c45c-2c5f6ec7eb8a"
   },
   "outputs": [
    {
     "name": "stdout",
     "output_type": "stream",
     "text": [
      "=== Entraînement ===\n",
      "ce film est génial → positif\n",
      "j'adore ce film → positif\n",
      "c'était un excellent film → positif\n",
      "ce film est formidable → positif\n",
      "je recommande ce film → positif\n",
      "j'ai adoré ce film → positif\n",
      "ce film est nul → négatif\n",
      "je déteste ce film → négatif\n",
      "\n",
      "=== Test ===\n",
      "c'était un mauvais film → négatif\n",
      "ce film est une perte de temps → négatif\n",
      "je ne recommande pas ce film → négatif\n",
      "ce film est horrible → négatif\n",
      "\n",
      "\n",
      "=== Prédictions sur le test ===\n",
      "Texte : c'était un mauvais film\n",
      " → Vrai label : négatif\n",
      " → Proba négatif : 0.14 | Proba positif : 0.86\n",
      " → Prédiction : positif\n",
      "——————————————————————————————————————————————————\n",
      "Texte : ce film est une perte de temps\n",
      " → Vrai label : négatif\n",
      " → Proba négatif : 0.26 | Proba positif : 0.74\n",
      " → Prédiction : positif\n",
      "——————————————————————————————————————————————————\n",
      "Texte : je ne recommande pas ce film\n",
      " → Vrai label : négatif\n",
      " → Proba négatif : 0.23 | Proba positif : 0.77\n",
      " → Prédiction : positif\n",
      "——————————————————————————————————————————————————\n",
      "Texte : ce film est horrible\n",
      " → Vrai label : négatif\n",
      " → Proba négatif : 0.26 | Proba positif : 0.74\n",
      " → Prédiction : positif\n",
      "——————————————————————————————————————————————————\n",
      "\n",
      "=== Rapport de classification ===\n",
      "              precision    recall  f1-score   support\n",
      "\n",
      "     négatif       0.00      0.00      0.00       4.0\n",
      "     positif       0.00      0.00      0.00       0.0\n",
      "\n",
      "    accuracy                           0.00       4.0\n",
      "   macro avg       0.00      0.00      0.00       4.0\n",
      "weighted avg       0.00      0.00      0.00       4.0\n",
      "\n",
      "\n",
      "=== Test sur nouvelles phrases ===\n",
      "ce film est incroyable\n",
      " → Proba négatif : 0.26 | Proba positif : 0.74\n",
      " → Prédiction : positif\n",
      "——————————————————————————————————————————————————\n",
      "je le recommande fortement\n",
      " → Proba négatif : 0.19 | Proba positif : 0.81\n",
      " → Prédiction : positif\n",
      "——————————————————————————————————————————————————\n",
      "ce film est horrible\n",
      " → Proba négatif : 0.26 | Proba positif : 0.74\n",
      " → Prédiction : positif\n",
      "——————————————————————————————————————————————————\n",
      "je ne le recommande pas\n",
      " → Proba négatif : 0.19 | Proba positif : 0.81\n",
      " → Prédiction : positif\n",
      "——————————————————————————————————————————————————\n"
     ]
    }
   ],
   "source": [
    "from sklearn.feature_extraction.text import CountVectorizer\n",
    "from sklearn.linear_model import LogisticRegression\n",
    "from sklearn.pipeline import Pipeline\n",
    "from sklearn.metrics import classification_report\n",
    "import pandas as pd\n",
    "\n",
    "# --------------------------\n",
    "# 1. Corpus enrichi + lowercased\n",
    "# --------------------------\n",
    "avis = [\n",
    "    \"Ce film est génial\",\n",
    "    \"J'adore ce film\",\n",
    "    \"C'était un excellent film\",\n",
    "    \"Ce film est formidable\",\n",
    "    \"Je recommande ce film\",\n",
    "    \"J'ai adoré ce film\",\n",
    "    \"Ce film est nul\",\n",
    "    \"Je déteste ce film\",\n",
    "    \"C'était un mauvais film\",\n",
    "    \"Ce film est une perte de temps\",\n",
    "    \"Je ne recommande pas ce film\",\n",
    "    \"Ce film est horrible\"\n",
    "]\n",
    "\n",
    "labels = [\"positif\"] * 6 + [\"négatif\"] * 6\n",
    "\n",
    "# Conversion en minuscules\n",
    "avis = [a.lower() for a in avis]\n",
    "\n",
    "# --------------------------\n",
    "# 2. Split manuel : 8 train / 4 test (2 positifs + 2 négatifs)\n",
    "# --------------------------\n",
    "X_train = avis[:8]\n",
    "y_train = labels[:8]\n",
    "\n",
    "X_test = avis[8:]\n",
    "y_test = labels[8:]\n",
    "\n",
    "# Affichage clair des splits\n",
    "print(\"=== Entraînement ===\")\n",
    "for x, y in zip(X_train, y_train):\n",
    "    print(f\"{x} → {y}\")\n",
    "print(\"\\n=== Test ===\")\n",
    "for x, y in zip(X_test, y_test):\n",
    "    print(f\"{x} → {y}\")\n",
    "print(\"\\n\")\n",
    "\n",
    "# --------------------------\n",
    "# 3. Pipeline : BoW + logistic regression\n",
    "#     avec n-grammes (1,2)\n",
    "# --------------------------\n",
    "pipeline = Pipeline([\n",
    "    (\"vectorizer\", CountVectorizer(ngram_range=(1, 2))),  # mots + paires\n",
    "    (\"classifier\", LogisticRegression(max_iter=1000))\n",
    "])\n",
    "\n",
    "# --------------------------\n",
    "# 4. Entraînement\n",
    "# --------------------------\n",
    "pipeline.fit(X_train, y_train)\n",
    "\n",
    "# --------------------------\n",
    "# 5. Prédiction sur test\n",
    "# --------------------------\n",
    "SEUIL = 0.6  # <- tu peux changer ici\n",
    "\n",
    "y_proba = pipeline.predict_proba(X_test)\n",
    "y_pred = [\"positif\" if p[1] >= SEUIL else \"négatif\" for p in y_proba]\n",
    "\n",
    "print(\"=== Prédictions sur le test ===\")\n",
    "for a, true, p in zip(X_test, y_test, y_proba):\n",
    "    print(f\"Texte : {a}\")\n",
    "    print(f\" → Vrai label : {true}\")\n",
    "    print(f\" → Proba négatif : {p[0]:.2f} | Proba positif : {p[1]:.2f}\")\n",
    "    print(f\" → Prédiction : {'positif' if p[1] >= 0.5 else 'négatif'}\")\n",
    "    print(\"—\" * 50)\n",
    "\n",
    "# --------------------------\n",
    "# 6. Rapport global\n",
    "# --------------------------\n",
    "print(\"\\n=== Rapport de classification ===\")\n",
    "print(classification_report(y_test, y_pred, zero_division=0))\n",
    "\n",
    "# --------------------------\n",
    "# 7. Test sur nouvelles phrases\n",
    "# --------------------------\n",
    "nouveaux_avis = [\n",
    "    \"ce film est incroyable\",   # attendu : positif\n",
    "    \"je le recommande fortement\",  # attendu : positif\n",
    "    \"ce film est horrible\",     # attendu : négatif\n",
    "    \"je ne le recommande pas\",  # attendu : négatif\n",
    "]\n",
    "nouveaux_avis = [a.lower() for a in nouveaux_avis]\n",
    "\n",
    "probas_nouvelles = pipeline.predict_proba(nouveaux_avis)\n",
    "predictions = [\"positif\" if p[1] >= 0.5 else \"négatif\" for p in probas_nouvelles]\n",
    "\n",
    "print(\"\\n=== Test sur nouvelles phrases ===\")\n",
    "for a, p, proba in zip(nouveaux_avis, predictions, probas_nouvelles):\n",
    "    print(f\"{a}\")\n",
    "    print(f\" → Proba négatif : {proba[0]:.2f} | Proba positif : {proba[1]:.2f}\")\n",
    "    print(f\" → Prédiction : {p}\")\n",
    "    print(\"—\" * 50)"
   ]
  },
  {
   "cell_type": "code",
   "execution_count": null,
   "metadata": {
    "colab": {
     "base_uri": "https://localhost:8080/",
     "height": 707
    },
    "executionInfo": {
     "elapsed": 591,
     "status": "ok",
     "timestamp": 1742681430136,
     "user": {
      "displayName": "Mohamed Echcharif EL JAZOULI",
      "userId": "06360884917850205108"
     },
     "user_tz": -60
    },
    "id": "6N1nBgsN1kId",
    "outputId": "64d9dc9b-10af-4f51-e485-64676047e6c8"
   },
   "outputs": [
    {
     "data": {
      "image/png": "[encoded data removed]",
      "text/plain": [
       "<Figure size 1200x700 with 1 Axes>"
      ]
     },
     "metadata": {},
     "output_type": "display_data"
    }
   ],
   "source": [
    "import numpy as np\n",
    "import matplotlib.pyplot as plt\n",
    "from sklearn.feature_extraction.text import CountVectorizer\n",
    "from sklearn.linear_model import LogisticRegression\n",
    "\n",
    "# ----------------------------\n",
    "# 1. Corpus d'entraînement\n",
    "# ----------------------------\n",
    "avis = [\n",
    "    \"Ce film est génial\",\n",
    "    \"J'adore ce film\",\n",
    "    \"C'était un excellent film\",\n",
    "    \"Ce film est nul\",\n",
    "    \"Je déteste ce film\",\n",
    "    \"C'était un mauvais film\"\n",
    "]\n",
    "labels = [\"positif\", \"positif\", \"positif\", \"négatif\", \"négatif\", \"négatif\"]\n",
    "\n",
    "# Nouvelles phrases à tester\n",
    "nouveaux_avis = [\n",
    "    \"Ce film est incroyable\",   # attendu : positif\n",
    "    \"Ce film est horrible\"      # attendu : négatif\n",
    "]\n",
    "\n",
    "# ----------------------------\n",
    "# 2. Prétraitement des textes\n",
    "# ----------------------------\n",
    "avis = [a.lower() for a in avis]\n",
    "nouveaux_avis = [a.lower() for a in nouveaux_avis]\n",
    "\n",
    "# ----------------------------\n",
    "# 3. Vectorisation avec n-grammes\n",
    "# ----------------------------\n",
    "vectorizer = CountVectorizer(ngram_range=(1, 2))  # capte les mots + paires\n",
    "X_train = vectorizer.fit_transform(avis)\n",
    "X_test = vectorizer.transform(nouveaux_avis)\n",
    "\n",
    "# ----------------------------\n",
    "# 4. Entraînement du modèle\n",
    "# ----------------------------\n",
    "clf = LogisticRegression()\n",
    "clf.fit(X_train, labels)\n",
    "\n",
    "# ----------------------------\n",
    "# 5. Fonction sigmoïde\n",
    "# ----------------------------\n",
    "def sigmoid(x):\n",
    "    return 1 / (1 + np.exp(-x))\n",
    "\n",
    "# ----------------------------\n",
    "# 6. Obtenir les logits et probabilités\n",
    "# ----------------------------\n",
    "logits_train = clf.decision_function(X_train)\n",
    "logits_test = clf.decision_function(X_test)\n",
    "\n",
    "probas_train = sigmoid(logits_train)\n",
    "probas_test = sigmoid(logits_test)\n",
    "\n",
    "# ----------------------------\n",
    "# 7. Tracer la fonction sigmoïde\n",
    "# ----------------------------\n",
    "x_vals = np.linspace(min(np.concatenate([logits_train, logits_test])) - 2,\n",
    "                     max(np.concatenate([logits_train, logits_test])) + 2,\n",
    "                     200)\n",
    "y_vals = sigmoid(x_vals)\n",
    "\n",
    "plt.figure(figsize=(12, 7))\n",
    "plt.plot(x_vals, y_vals, label='fonction sigmoïde', color='gray', linewidth=2)\n",
    "plt.title(\"Décision logistique : phrases projetées sur la fonction sigmoïde\", fontsize=14)\n",
    "plt.xlabel(\"Score logit (avant décision)\")\n",
    "plt.ylabel(\"Probabilité prédite d'être 'positif'\")\n",
    "plt.grid(True)\n",
    "\n",
    "# ----------------------------\n",
    "# 8. Ajouter les phrases d'entraînement\n",
    "# ----------------------------\n",
    "for i, phrase in enumerate(avis):\n",
    "    color = 'green' if labels[i] == \"positif\" else 'red'\n",
    "    plt.scatter(logits_train[i], probas_train[i], color=color, s=80)\n",
    "    plt.text(logits_train[i], probas_train[i] + 0.03, f\"train: {phrase}\", fontsize=9, color=color)\n",
    "\n",
    "# ----------------------------\n",
    "# 9. Ajouter les phrases test\n",
    "# ----------------------------\n",
    "for i, phrase in enumerate(nouveaux_avis):\n",
    "    plt.scatter(logits_test[i], probas_test[i], color='blue', s=90, marker='X')\n",
    "    plt.text(logits_test[i], probas_test[i] - 0.05, f\"test: {phrase}\", fontsize=9, color='blue')\n",
    "\n",
    "# Ligne de seuil de décision\n",
    "plt.axhline(0.5, color='black', linestyle='--', linewidth=1)\n",
    "plt.legend([\"fonction sigmoïde\", \"seuil = 0.5\"], loc=\"lower right\")\n",
    "plt.tight_layout()\n",
    "plt.show()"
   ]
  },
  {
   "cell_type": "markdown",
   "metadata": {
    "id": "Tl20NGFaRvBJ"
   },
   "source": [
    "## 📐 Représentation vectorielle : Exemple TF-IDF\n"
   ]
  },
  {
   "cell_type": "code",
   "execution_count": null,
   "metadata": {
    "colab": {
     "base_uri": "https://localhost:8080/",
     "height": 143
    },
    "executionInfo": {
     "elapsed": 221,
     "status": "ok",
     "timestamp": 1742654563825,
     "user": {
      "displayName": "Mohamed Echcharif EL JAZOULI",
      "userId": "06360884917850205108"
     },
     "user_tz": -60
    },
    "id": "ZTKz41W0Rhbt",
    "outputId": "d70a7c23-6c73-49ed-c792-a534fa7bbca3"
   },
   "outputs": [
    {
     "data": {
      "application/vnd.google.colaboratory.intrinsic+json": {
       "summary": "{\n  \"name\": \"df_tfidf\",\n  \"rows\": 3,\n  \"fields\": [\n    {\n      \"column\": \"artificielle\",\n      \"properties\": {\n        \"dtype\": \"number\",\n        \"std\": 0.24456125356050062,\n        \"min\": 0.0,\n        \"max\": 0.4804583972923858,\n        \"num_unique_values\": 3,\n        \"samples\": [\n          0.0,\n          0.3196043621589342,\n          0.4804583972923858\n        ],\n        \"semantic_type\": \"\",\n        \"description\": \"\"\n      }\n    },\n    {\n      \"column\": \"avenir\",\n      \"properties\": {\n        \"dtype\": \"number\",\n        \"std\": 0.36473817714576406,\n        \"min\": 0.0,\n        \"max\": 0.6317450542765208,\n        \"num_unique_values\": 2,\n        \"samples\": [\n          0.6317450542765208,\n          0.0\n        ],\n        \"semantic_type\": \"\",\n        \"description\": \"\"\n      }\n    },\n    {\n      \"column\": \"branche\",\n      \"properties\": {\n        \"dtype\": \"number\",\n        \"std\": 0.2426264440763718,\n        \"min\": 0.0,\n        \"max\": 0.4202413284000448,\n        \"num_unique_values\": 2,\n        \"samples\": [\n          0.4202413284000448,\n          0.0\n        ],\n        \"semantic_type\": \"\",\n        \"description\": \"\"\n      }\n    },\n    {\n      \"column\": \"de\",\n      \"properties\": {\n        \"dtype\": \"number\",\n        \"std\": 0.2426264440763718,\n        \"min\": 0.0,\n        \"max\": 0.4202413284000448,\n        \"num_unique_values\": 2,\n        \"samples\": [\n          0.4202413284000448,\n          0.0\n        ],\n        \"semantic_type\": \"\",\n        \"description\": \"\"\n      }\n    },\n    {\n      \"column\": \"est\",\n      \"properties\": {\n        \"dtype\": \"number\",\n        \"std\": 0.07212115666696406,\n        \"min\": 0.24820129828351106,\n        \"max\": 0.3731188059313277,\n        \"num_unique_values\": 2,\n        \"samples\": [\n          0.24820129828351106,\n          0.3731188059313277\n        ],\n        \"semantic_type\": \"\",\n        \"description\": \"\"\n      }\n    },\n    {\n      \"column\": \"fascinant\",\n      \"properties\": {\n        \"dtype\": \"number\",\n        \"std\": 0.36473817714576406,\n        \"min\": 0.0,\n        \"max\": 0.6317450542765208,\n        \"num_unique_values\": 2,\n        \"samples\": [\n          0.0,\n          0.6317450542765208\n        ],\n        \"semantic_type\": \"\",\n        \"description\": \"\"\n      }\n    },\n    {\n      \"column\": \"intelligence\",\n      \"properties\": {\n        \"dtype\": \"number\",\n        \"std\": 0.24456125356050062,\n        \"min\": 0.0,\n        \"max\": 0.4804583972923858,\n        \"num_unique_values\": 3,\n        \"samples\": [\n          0.0,\n          0.3196043621589342\n        ],\n        \"semantic_type\": \"\",\n        \"description\": \"\"\n      }\n    },\n    {\n      \"column\": \"le\",\n      \"properties\": {\n        \"dtype\": \"number\",\n        \"std\": 0.24456125356050062,\n        \"min\": 0.0,\n        \"max\": 0.4804583972923858,\n        \"num_unique_values\": 3,\n        \"samples\": [\n          0.4804583972923858,\n          0.3196043621589342\n        ],\n        \"semantic_type\": \"\",\n        \"description\": \"\"\n      }\n    },\n    {\n      \"column\": \"nlp\",\n      \"properties\": {\n        \"dtype\": \"number\",\n        \"std\": 0.24456125356050062,\n        \"min\": 0.0,\n        \"max\": 0.4804583972923858,\n        \"num_unique_values\": 3,\n        \"samples\": [\n          0.4804583972923858,\n          0.3196043621589342\n        ],\n        \"semantic_type\": \"\",\n        \"description\": \"\"\n      }\n    },\n    {\n      \"column\": \"une\",\n      \"properties\": {\n        \"dtype\": \"number\",\n        \"std\": 0.2426264440763718,\n        \"min\": 0.0,\n        \"max\": 0.4202413284000448,\n        \"num_unique_values\": 2,\n        \"samples\": [\n          0.4202413284000448,\n          0.0\n        ],\n        \"semantic_type\": \"\",\n        \"description\": \"\"\n      }\n    }\n  ]\n}",
       "type": "dataframe",
       "variable_name": "df_tfidf"
      },
      "text/html": [
       "\n",
       "  <div id=\"df-bc35a745-33ee-45fa-80ef-4455e466a0f9\" class=\"colab-df-container\">\n",
       "    <div>\n",
       "<style scoped>\n",
       "    .dataframe tbody tr th:only-of-type {\n",
       "        vertical-align: middle;\n",
       "    }\n",
       "\n",
       "    .dataframe tbody tr th {\n",
       "        vertical-align: top;\n",
       "    }\n",
       "\n",
       "    .dataframe thead th {\n",
       "        text-align: right;\n",
       "    }\n",
       "</style>\n",
       "<table border=\"1\" class=\"dataframe\">\n",
       "  <thead>\n",
       "    <tr style=\"text-align: right;\">\n",
       "      <th></th>\n",
       "      <th>artificielle</th>\n",
       "      <th>avenir</th>\n",
       "      <th>branche</th>\n",
       "      <th>de</th>\n",
       "      <th>est</th>\n",
       "      <th>fascinant</th>\n",
       "      <th>intelligence</th>\n",
       "      <th>le</th>\n",
       "      <th>nlp</th>\n",
       "      <th>une</th>\n",
       "    </tr>\n",
       "  </thead>\n",
       "  <tbody>\n",
       "    <tr>\n",
       "      <th>0</th>\n",
       "      <td>0.000000</td>\n",
       "      <td>0.000000</td>\n",
       "      <td>0.000000</td>\n",
       "      <td>0.000000</td>\n",
       "      <td>0.373119</td>\n",
       "      <td>0.631745</td>\n",
       "      <td>0.000000</td>\n",
       "      <td>0.480458</td>\n",
       "      <td>0.480458</td>\n",
       "      <td>0.000000</td>\n",
       "    </tr>\n",
       "    <tr>\n",
       "      <th>1</th>\n",
       "      <td>0.319604</td>\n",
       "      <td>0.000000</td>\n",
       "      <td>0.420241</td>\n",
       "      <td>0.420241</td>\n",
       "      <td>0.248201</td>\n",
       "      <td>0.000000</td>\n",
       "      <td>0.319604</td>\n",
       "      <td>0.319604</td>\n",
       "      <td>0.319604</td>\n",
       "      <td>0.420241</td>\n",
       "    </tr>\n",
       "    <tr>\n",
       "      <th>2</th>\n",
       "      <td>0.480458</td>\n",
       "      <td>0.631745</td>\n",
       "      <td>0.000000</td>\n",
       "      <td>0.000000</td>\n",
       "      <td>0.373119</td>\n",
       "      <td>0.000000</td>\n",
       "      <td>0.480458</td>\n",
       "      <td>0.000000</td>\n",
       "      <td>0.000000</td>\n",
       "      <td>0.000000</td>\n",
       "    </tr>\n",
       "  </tbody>\n",
       "</table>\n",
       "</div>\n",
       "    <div class=\"colab-df-buttons\">\n",
       "\n",
       "  <div class=\"colab-df-container\">\n",
       "    <button class=\"colab-df-convert\" onclick=\"convertToInteractive('df-bc35a745-33ee-45fa-80ef-4455e466a0f9')\"\n",
       "            title=\"Convert this dataframe to an interactive table.\"\n",
       "            style=\"display:none;\">\n",
       "\n",
       "  <svg xmlns=\"http://www.w3.org/2000/svg\" height=\"24px\" viewBox=\"0 -960 960 960\">\n",
       "    <path d=\"M120-120v-720h720v720H120Zm60-500h600v-160H180v160Zm220 220h160v-160H400v160Zm0 220h160v-160H400v160ZM180-400h160v-160H180v160Zm440 0h160v-160H620v160ZM180-180h160v-160H180v160Zm440 0h160v-160H620v160Z\"/>\n",
       "  </svg>\n",
       "    </button>\n",
       "\n",
       "  <style>\n",
       "    .colab-df-container {\n",
       "      display:flex;\n",
       "      gap: 12px;\n",
       "    }\n",
       "\n",
       "    .colab-df-convert {\n",
       "      background-color: #E8F0FE;\n",
       "      border: none;\n",
       "      border-radius: 50%;\n",
       "      cursor: pointer;\n",
       "      display: none;\n",
       "      fill: #1967D2;\n",
       "      height: 32px;\n",
       "      padding: 0 0 0 0;\n",
       "      width: 32px;\n",
       "    }\n",
       "\n",
       "    .colab-df-convert:hover {\n",
       "      background-color: #E2EBFA;\n",
       "      box-shadow: 0px 1px 2px rgba(60, 64, 67, 0.3), 0px 1px 3px 1px rgba(60, 64, 67, 0.15);\n",
       "      fill: #174EA6;\n",
       "    }\n",
       "\n",
       "    .colab-df-buttons div {\n",
       "      margin-bottom: 4px;\n",
       "    }\n",
       "\n",
       "    [theme=dark] .colab-df-convert {\n",
       "      background-color: #3B4455;\n",
       "      fill: #D2E3FC;\n",
       "    }\n",
       "\n",
       "    [theme=dark] .colab-df-convert:hover {\n",
       "      background-color: #434B5C;\n",
       "      box-shadow: 0px 1px 3px 1px rgba(0, 0, 0, 0.15);\n",
       "      filter: drop-shadow(0px 1px 2px rgba(0, 0, 0, 0.3));\n",
       "      fill: #FFFFFF;\n",
       "    }\n",
       "  </style>\n",
       "\n",
       "    <script>\n",
       "      const buttonEl =\n",
       "        document.querySelector('#df-bc35a745-33ee-45fa-80ef-4455e466a0f9 button.colab-df-convert');\n",
       "      buttonEl.style.display =\n",
       "        google.colab.kernel.accessAllowed ? 'block' : 'none';\n",
       "\n",
       "      async function convertToInteractive(key) {\n",
       "        const element = document.querySelector('#df-bc35a745-33ee-45fa-80ef-4455e466a0f9');\n",
       "        const dataTable =\n",
       "          await google.colab.kernel.invokeFunction('convertToInteractive',\n",
       "                                                    [key], {});\n",
       "        if (!dataTable) return;\n",
       "\n",
       "        const docLinkHtml = 'Like what you see? Visit the ' +\n",
       "          '<a target=\"_blank\" href=https://colab.research.google.com/notebooks/data_table.ipynb>data table notebook</a>'\n",
       "          + ' to learn more about interactive tables.';\n",
       "        element.innerHTML = '';\n",
       "        dataTable['output_type'] = 'display_data';\n",
       "        await google.colab.output.renderOutput(dataTable, element);\n",
       "        const docLink = document.createElement('div');\n",
       "        docLink.innerHTML = docLinkHtml;\n",
       "        element.appendChild(docLink);\n",
       "      }\n",
       "    </script>\n",
       "  </div>\n",
       "\n",
       "\n",
       "<div id=\"df-0d83132d-966c-4b65-9a31-c0e229b71c6f\">\n",
       "  <button class=\"colab-df-quickchart\" onclick=\"quickchart('df-0d83132d-966c-4b65-9a31-c0e229b71c6f')\"\n",
       "            title=\"Suggest charts\"\n",
       "            style=\"display:none;\">\n",
       "\n",
       "<svg xmlns=\"http://www.w3.org/2000/svg\" height=\"24px\"viewBox=\"0 0 24 24\"\n",
       "     width=\"24px\">\n",
       "    <g>\n",
       "        <path d=\"M19 3H5c-1.1 0-2 .9-2 2v14c0 1.1.9 2 2 2h14c1.1 0 2-.9 2-2V5c0-1.1-.9-2-2-2zM9 17H7v-7h2v7zm4 0h-2V7h2v10zm4 0h-2v-4h2v4z\"/>\n",
       "    </g>\n",
       "</svg>\n",
       "  </button>\n",
       "\n",
       "<style>\n",
       "  .colab-df-quickchart {\n",
       "      --bg-color: #E8F0FE;\n",
       "      --fill-color: #1967D2;\n",
       "      --hover-bg-color: #E2EBFA;\n",
       "      --hover-fill-color: #174EA6;\n",
       "      --disabled-fill-color: #AAA;\n",
       "      --disabled-bg-color: #DDD;\n",
       "  }\n",
       "\n",
       "  [theme=dark] .colab-df-quickchart {\n",
       "      --bg-color: #3B4455;\n",
       "      --fill-color: #D2E3FC;\n",
       "      --hover-bg-color: #434B5C;\n",
       "      --hover-fill-color: #FFFFFF;\n",
       "      --disabled-bg-color: #3B4455;\n",
       "      --disabled-fill-color: #666;\n",
       "  }\n",
       "\n",
       "  .colab-df-quickchart {\n",
       "    background-color: var(--bg-color);\n",
       "    border: none;\n",
       "    border-radius: 50%;\n",
       "    cursor: pointer;\n",
       "    display: none;\n",
       "    fill: var(--fill-color);\n",
       "    height: 32px;\n",
       "    padding: 0;\n",
       "    width: 32px;\n",
       "  }\n",
       "\n",
       "  .colab-df-quickchart:hover {\n",
       "    background-color: var(--hover-bg-color);\n",
       "    box-shadow: 0 1px 2px rgba(60, 64, 67, 0.3), 0 1px 3px 1px rgba(60, 64, 67, 0.15);\n",
       "    fill: var(--button-hover-fill-color);\n",
       "  }\n",
       "\n",
       "  .colab-df-quickchart-complete:disabled,\n",
       "  .colab-df-quickchart-complete:disabled:hover {\n",
       "    background-color: var(--disabled-bg-color);\n",
       "    fill: var(--disabled-fill-color);\n",
       "    box-shadow: none;\n",
       "  }\n",
       "\n",
       "  .colab-df-spinner {\n",
       "    border: 2px solid var(--fill-color);\n",
       "    border-color: transparent;\n",
       "    border-bottom-color: var(--fill-color);\n",
       "    animation:\n",
       "      spin 1s steps(1) infinite;\n",
       "  }\n",
       "\n",
       "  @keyframes spin {\n",
       "    0% {\n",
       "      border-color: transparent;\n",
       "      border-bottom-color: var(--fill-color);\n",
       "      border-left-color: var(--fill-color);\n",
       "    }\n",
       "    20% {\n",
       "      border-color: transparent;\n",
       "      border-left-color: var(--fill-color);\n",
       "      border-top-color: var(--fill-color);\n",
       "    }\n",
       "    30% {\n",
       "      border-color: transparent;\n",
       "      border-left-color: var(--fill-color);\n",
       "      border-top-color: var(--fill-color);\n",
       "      border-right-color: var(--fill-color);\n",
       "    }\n",
       "    40% {\n",
       "      border-color: transparent;\n",
       "      border-right-color: var(--fill-color);\n",
       "      border-top-color: var(--fill-color);\n",
       "    }\n",
       "    60% {\n",
       "      border-color: transparent;\n",
       "      border-right-color: var(--fill-color);\n",
       "    }\n",
       "    80% {\n",
       "      border-color: transparent;\n",
       "      border-right-color: var(--fill-color);\n",
       "      border-bottom-color: var(--fill-color);\n",
       "    }\n",
       "    90% {\n",
       "      border-color: transparent;\n",
       "      border-bottom-color: var(--fill-color);\n",
       "    }\n",
       "  }\n",
       "</style>\n",
       "\n",
       "  <script>\n",
       "    async function quickchart(key) {\n",
       "      const quickchartButtonEl =\n",
       "        document.querySelector('#' + key + ' button');\n",
       "      quickchartButtonEl.disabled = true;  // To prevent multiple clicks.\n",
       "      quickchartButtonEl.classList.add('colab-df-spinner');\n",
       "      try {\n",
       "        const charts = await google.colab.kernel.invokeFunction(\n",
       "            'suggestCharts', [key], {});\n",
       "      } catch (error) {\n",
       "        console.error('Error during call to suggestCharts:', error);\n",
       "      }\n",
       "      quickchartButtonEl.classList.remove('colab-df-spinner');\n",
       "      quickchartButtonEl.classList.add('colab-df-quickchart-complete');\n",
       "    }\n",
       "    (() => {\n",
       "      let quickchartButtonEl =\n",
       "        document.querySelector('#df-0d83132d-966c-4b65-9a31-c0e229b71c6f button');\n",
       "      quickchartButtonEl.style.display =\n",
       "        google.colab.kernel.accessAllowed ? 'block' : 'none';\n",
       "    })();\n",
       "  </script>\n",
       "</div>\n",
       "\n",
       "  <div id=\"id_13e55797-a623-4700-9cd4-1d9e8817a7dd\">\n",
       "    <style>\n",
       "      .colab-df-generate {\n",
       "        background-color: #E8F0FE;\n",
       "        border: none;\n",
       "        border-radius: 50%;\n",
       "        cursor: pointer;\n",
       "        display: none;\n",
       "        fill: #1967D2;\n",
       "        height: 32px;\n",
       "        padding: 0 0 0 0;\n",
       "        width: 32px;\n",
       "      }\n",
       "\n",
       "      .colab-df-generate:hover {\n",
       "        background-color: #E2EBFA;\n",
       "        box-shadow: 0px 1px 2px rgba(60, 64, 67, 0.3), 0px 1px 3px 1px rgba(60, 64, 67, 0.15);\n",
       "        fill: #174EA6;\n",
       "      }\n",
       "\n",
       "      [theme=dark] .colab-df-generate {\n",
       "        background-color: #3B4455;\n",
       "        fill: #D2E3FC;\n",
       "      }\n",
       "\n",
       "      [theme=dark] .colab-df-generate:hover {\n",
       "        background-color: #434B5C;\n",
       "        box-shadow: 0px 1px 3px 1px rgba(0, 0, 0, 0.15);\n",
       "        filter: drop-shadow(0px 1px 2px rgba(0, 0, 0, 0.3));\n",
       "        fill: #FFFFFF;\n",
       "      }\n",
       "    </style>\n",
       "    <button class=\"colab-df-generate\" onclick=\"generateWithVariable('df_tfidf')\"\n",
       "            title=\"Generate code using this dataframe.\"\n",
       "            style=\"display:none;\">\n",
       "\n",
       "  <svg xmlns=\"http://www.w3.org/2000/svg\" height=\"24px\"viewBox=\"0 0 24 24\"\n",
       "       width=\"24px\">\n",
       "    <path d=\"M7,19H8.4L18.45,9,17,7.55,7,17.6ZM5,21V16.75L18.45,3.32a2,2,0,0,1,2.83,0l1.4,1.43a1.91,1.91,0,0,1,.58,1.4,1.91,1.91,0,0,1-.58,1.4L9.25,21ZM18.45,9,17,7.55Zm-12,3A5.31,5.31,0,0,0,4.9,8.1,5.31,5.31,0,0,0,1,6.5,5.31,5.31,0,0,0,4.9,4.9,5.31,5.31,0,0,0,6.5,1,5.31,5.31,0,0,0,8.1,4.9,5.31,5.31,0,0,0,12,6.5,5.46,5.46,0,0,0,6.5,12Z\"/>\n",
       "  </svg>\n",
       "    </button>\n",
       "    <script>\n",
       "      (() => {\n",
       "      const buttonEl =\n",
       "        document.querySelector('#id_13e55797-a623-4700-9cd4-1d9e8817a7dd button.colab-df-generate');\n",
       "      buttonEl.style.display =\n",
       "        google.colab.kernel.accessAllowed ? 'block' : 'none';\n",
       "\n",
       "      buttonEl.onclick = () => {\n",
       "        google.colab.notebook.generateWithVariable('df_tfidf');\n",
       "      }\n",
       "      })();\n",
       "    </script>\n",
       "  </div>\n",
       "\n",
       "    </div>\n",
       "  </div>\n"
      ],
      "text/plain": [
       "   artificielle    avenir   branche        de       est  fascinant  \\\n",
       "0      0.000000  0.000000  0.000000  0.000000  0.373119   0.631745   \n",
       "1      0.319604  0.000000  0.420241  0.420241  0.248201   0.000000   \n",
       "2      0.480458  0.631745  0.000000  0.000000  0.373119   0.000000   \n",
       "\n",
       "   intelligence        le       nlp       une  \n",
       "0      0.000000  0.480458  0.480458  0.000000  \n",
       "1      0.319604  0.319604  0.319604  0.420241  \n",
       "2      0.480458  0.000000  0.000000  0.000000  "
      ]
     },
     "execution_count": 8,
     "metadata": {},
     "output_type": "execute_result"
    }
   ],
   "source": [
    "# Embedding\n",
    "\n",
    "from sklearn.feature_extraction.text import TfidfVectorizer\n",
    "import pandas as pd\n",
    "\n",
    "corpus = [\n",
    "    \"Le NLP est fascinant\",\n",
    "    \"Le NLP est une branche de l'intelligence artificielle\",\n",
    "    \"L'intelligence artificielle est l'avenir\"\n",
    "]\n",
    "\n",
    "vectorizer = TfidfVectorizer()\n",
    "X = vectorizer.fit_transform(corpus)\n",
    "\n",
    "df_tfidf = pd.DataFrame(X.toarray(), columns=vectorizer.get_feature_names_out())\n",
    "df_tfidf"
   ]
  },
  {
   "cell_type": "code",
   "execution_count": null,
   "metadata": {
    "colab": {
     "base_uri": "https://localhost:8080/"
    },
    "executionInfo": {
     "elapsed": 36,
     "status": "ok",
     "timestamp": 1742675880203,
     "user": {
      "displayName": "Mohamed Echcharif EL JAZOULI",
      "userId": "06360884917850205108"
     },
     "user_tz": -60
    },
    "id": "avmE4rjOkvYY",
    "outputId": "9101c127-bc71-4861-eceb-10cc12f67bdc"
   },
   "outputs": [
    {
     "name": "stdout",
     "output_type": "stream",
     "text": [
      "Résumé généré :\n",
      "\n",
      "Les techniques classiques incluent le TF-IDF, qui pèse les mots selon leur importance dans le corpus.\n",
      "Cependant, les méthodes comme TF-IDF restent utiles pour des applications simples ou spécialisées.\n"
     ]
    },
    {
     "name": "stderr",
     "output_type": "stream",
     "text": [
      "[nltk_data] Downloading package punkt to /root/nltk_data...\n",
      "[nltk_data]   Package punkt is already up-to-date!\n"
     ]
    }
   ],
   "source": [
    "# Resume\n",
    "\n",
    "import nltk\n",
    "import numpy as np\n",
    "from sklearn.feature_extraction.text import TfidfVectorizer\n",
    "from nltk.tokenize import sent_tokenize\n",
    "\n",
    "# Télécharger les ressources nécessaires\n",
    "nltk.download('punkt')\n",
    "\n",
    "# Exemple de texte\n",
    "texte = \"\"\"\n",
    "Le traitement automatique du langage naturel est un domaine passionnant de l’intelligence artificielle.\n",
    "Il permet aux machines de comprendre, générer et analyser du langage humain.\n",
    "Les techniques classiques incluent le TF-IDF, qui pèse les mots selon leur importance dans le corpus.\n",
    "Des modèles plus récents comme BERT ou GPT utilisent des architectures neuronales plus complexes.\n",
    "Cependant, les méthodes comme TF-IDF restent utiles pour des applications simples ou spécialisées.\n",
    "\"\"\"\n",
    "\n",
    "# Étape 1 : découper en phrases\n",
    "phrases = sent_tokenize(texte, language='french')\n",
    "\n",
    "# Étape 2 : transformer les phrases en vecteurs TF-IDF\n",
    "vectorizer = TfidfVectorizer()\n",
    "X = vectorizer.fit_transform(phrases)\n",
    "\n",
    "# Étape 3 : calcul du score moyen de chaque phrase\n",
    "scores = X.mean(axis=1).flatten().tolist()[0]\n",
    "\n",
    "# Étape 4 : trier les phrases selon leur score\n",
    "phrases_scored = list(zip(phrases, scores))\n",
    "phrases_scored.sort(key=lambda x: x[1], reverse=True)\n",
    "\n",
    "# Étape 5 : générer le résumé (top 2 phrases par exemple)\n",
    "resume = \"\\n\".join([p[0] for p in phrases_scored[:2]])\n",
    "print(\"Résumé généré :\\n\")\n",
    "print(resume)\n"
   ]
  },
  {
   "cell_type": "code",
   "execution_count": null,
   "metadata": {
    "colab": {
     "base_uri": "https://localhost:8080/"
    },
    "executionInfo": {
     "elapsed": 6,
     "status": "ok",
     "timestamp": 1742677050229,
     "user": {
      "displayName": "Mohamed Echcharif EL JAZOULI",
      "userId": "06360884917850205108"
     },
     "user_tz": -60
    },
    "id": "TKs1pSmBR-zm",
    "outputId": "fffe0f3c-70d1-430a-b039-9368222cce74"
   },
   "outputs": [
    {
     "name": "stdout",
     "output_type": "stream",
     "text": [
      "Prédiction pour 'Je trouve le NLP très utile': positif\n"
     ]
    }
   ],
   "source": [
    "# Classification 1\n",
    "\n",
    "from sklearn.naive_bayes import MultinomialNB\n",
    "from sklearn.pipeline import make_pipeline\n",
    "\n",
    "# Données d'exemple\n",
    "texts = [\"J'adore le NLP\", \"Je déteste attendre\", \"Le NLP est intéressant\", \"Je n'aime pas le bruit\"]\n",
    "labels = [\"positif\", \"négatif\", \"positif\", \"négatif\"]\n",
    "\n",
    "# Création et entraînement du modèle\n",
    "model = make_pipeline(TfidfVectorizer(), MultinomialNB())\n",
    "model.fit(texts, labels)\n",
    "\n",
    "# Exemple de prédiction\n",
    "nouveau_texte = [\"Je trouve le NLP très utile\"]\n",
    "prediction = model.predict(nouveau_texte)\n",
    "\n",
    "print(f\"Prédiction pour '{nouveau_texte[0]}':\", prediction[0])"
   ]
  },
  {
   "cell_type": "code",
   "execution_count": null,
   "metadata": {
    "colab": {
     "base_uri": "https://localhost:8080/"
    },
    "executionInfo": {
     "elapsed": 75,
     "status": "ok",
     "timestamp": 1742677588972,
     "user": {
      "displayName": "Mohamed Echcharif EL JAZOULI",
      "userId": "06360884917850205108"
     },
     "user_tz": -60
    },
    "id": "jD_HkNbySFD8",
    "outputId": "a3ac2b64-1954-4cf0-b6b6-da75245d1a50"
   },
   "outputs": [
    {
     "name": "stdout",
     "output_type": "stream",
     "text": [
      "X_test ['Le joueur a marqué trois buts', 'Le gouvernement prépare une réforme']\n",
      "y_pred ['politique' 'politique']\n",
      "y_test ['sport', 'politique']\n",
      "              precision    recall  f1-score   support\n",
      "\n",
      "   politique       0.50      1.00      0.67         1\n",
      "       sport       0.00      0.00      0.00         1\n",
      "\n",
      "    accuracy                           0.50         2\n",
      "   macro avg       0.25      0.50      0.33         2\n",
      "weighted avg       0.25      0.50      0.33         2\n",
      "\n"
     ]
    },
    {
     "name": "stderr",
     "output_type": "stream",
     "text": [
      "/usr/local/lib/python3.11/dist-packages/sklearn/metrics/_classification.py:1565: UndefinedMetricWarning: Precision is ill-defined and being set to 0.0 in labels with no predicted samples. Use `zero_division` parameter to control this behavior.\n",
      "  _warn_prf(average, modifier, f\"{metric.capitalize()} is\", len(result))\n",
      "/usr/local/lib/python3.11/dist-packages/sklearn/metrics/_classification.py:1565: UndefinedMetricWarning: Precision is ill-defined and being set to 0.0 in labels with no predicted samples. Use `zero_division` parameter to control this behavior.\n",
      "  _warn_prf(average, modifier, f\"{metric.capitalize()} is\", len(result))\n",
      "/usr/local/lib/python3.11/dist-packages/sklearn/metrics/_classification.py:1565: UndefinedMetricWarning: Precision is ill-defined and being set to 0.0 in labels with no predicted samples. Use `zero_division` parameter to control this behavior.\n",
      "  _warn_prf(average, modifier, f\"{metric.capitalize()} is\", len(result))\n"
     ]
    }
   ],
   "source": [
    "# Classification 2\n",
    "\n",
    "from sklearn.feature_extraction.text import TfidfVectorizer\n",
    "from sklearn.linear_model import LogisticRegression\n",
    "from sklearn.pipeline import Pipeline\n",
    "from sklearn.model_selection import train_test_split\n",
    "from sklearn.metrics import classification_report\n",
    "\n",
    "# Corpus\n",
    "docs = [\n",
    "    \"Le match de football a été intense\",\n",
    "    \"Le joueur a marqué trois buts\",\n",
    "    \"L'équipe a gagné la coupe du monde\",\n",
    "    \"Le président a fait un discours important\",\n",
    "    \"Le gouvernement prépare une réforme\",\n",
    "    \"Le parlement a adopté une nouvelle loi\"\n",
    "]\n",
    "\n",
    "# Étiquettes\n",
    "labels = [\"sport\", \"sport\", \"sport\", \"politique\", \"politique\", \"politique\"]\n",
    "\n",
    "# Split en entraînement/test\n",
    "X_train, X_test, y_train, y_test = train_test_split(docs, labels, test_size=0.3, random_state=41)\n",
    "\n",
    "# Pipeline : TF-IDF + Classifieur\n",
    "pipeline = Pipeline([\n",
    "    (\"tfidf\", TfidfVectorizer()),\n",
    "    (\"clf\", LogisticRegression())\n",
    "])\n",
    "\n",
    "# Entraînement\n",
    "pipeline.fit(X_train, y_train)\n",
    "\n",
    "# Prédictions\n",
    "y_pred = pipeline.predict(X_test)\n",
    "\n",
    "# Évaluation\n",
    "print(\"X_test\", X_test)\n",
    "print(\"y_pred\", y_pred)\n",
    "print(\"y_test\", y_test)\n",
    "print(classification_report(y_test, y_pred))\n"
   ]
  },
  {
   "cell_type": "code",
   "execution_count": null,
   "metadata": {
    "colab": {
     "base_uri": "https://localhost:8080/"
    },
    "executionInfo": {
     "elapsed": 55,
     "status": "ok",
     "timestamp": 1742678443455,
     "user": {
      "displayName": "Mohamed Echcharif EL JAZOULI",
      "userId": "06360884917850205108"
     },
     "user_tz": -60
    },
    "id": "XmOuQEkap-b5",
    "outputId": "d6ff5303-3aeb-4966-9a13-ae6697be6b1f"
   },
   "outputs": [
    {
     "name": "stdout",
     "output_type": "stream",
     "text": [
      "Texte : J'aime ce film\n",
      "Prédiction : négatif\n",
      "---\n",
      "Texte : J'adore pas ce film\n",
      "Prédiction : positif\n",
      "---\n"
     ]
    }
   ],
   "source": [
    "# Exemple avec limite claire\n",
    "\n",
    "from sklearn.feature_extraction.text import TfidfVectorizer\n",
    "from sklearn.linear_model import LogisticRegression\n",
    "\n",
    "# Deux phrases avec les mêmes mots mais sens opposé\n",
    "X_train = [\n",
    "    \"J'adore ce film\",    # positif\n",
    "    \"J'aime pas ce film\",    # négatif\n",
    "]\n",
    "\n",
    "\n",
    "X_test = [\n",
    "    \"J'aime ce film\",    # positif\n",
    "    \"J'adore pas ce film\"\n",
    "]\n",
    "\n",
    "\n",
    "y_train = [\"positif\", \"négatif\"]\n",
    "\n",
    "\n",
    "# TF-IDF vectorisation\n",
    "vectorizer = TfidfVectorizer()\n",
    "X_tfidf_train = vectorizer.fit_transform(X_train)\n",
    "X_tfidf_test = vectorizer.transform(X_test)\n",
    "\n",
    "\n",
    "# Entraînement d’un classifieur simple\n",
    "clf = LogisticRegression()\n",
    "clf.fit(X_tfidf_train, y_train)\n",
    "\n",
    "# Test sur les mêmes phrases\n",
    "y_pred = clf.predict(X_tfidf_test)\n",
    "\n",
    "# Affichage des résultats\n",
    "for phrase, pred in zip(X_test, y_pred):\n",
    "    print(f\"Texte : {phrase}\")\n",
    "    print(f\"Prédiction : {pred}\")\n",
    "    print(\"---\")"
   ]
  },
  {
   "cell_type": "code",
   "execution_count": null,
   "metadata": {
    "colab": {
     "base_uri": "https://localhost:8080/"
    },
    "executionInfo": {
     "elapsed": 19,
     "status": "ok",
     "timestamp": 1742678474984,
     "user": {
      "displayName": "Mohamed Echcharif EL JAZOULI",
      "userId": "06360884917850205108"
     },
     "user_tz": -60
    },
    "id": "JCJbpd_Rr7jO",
    "outputId": "6988cce1-92e3-48f5-ae69-c8946a1ce445"
   },
   "outputs": [
    {
     "name": "stdout",
     "output_type": "stream",
     "text": [
      "Test : J'aime ce film\n",
      " ↳ Similaire à : J'adore ce film → score = 0.50\n",
      " ↳ Similaire à : J'aime pas ce film → score = 0.82\n",
      "---\n",
      "Test : J'adore pas ce film\n",
      " ↳ Similaire à : J'adore ce film → score = 0.82\n",
      " ↳ Similaire à : J'aime pas ce film → score = 0.67\n",
      "---\n"
     ]
    }
   ],
   "source": [
    "# Calcul de similtude pour mieux comprendre\n",
    "\n",
    "from sklearn.metrics.pairwise import cosine_similarity\n",
    "import numpy as np\n",
    "\n",
    "# Calcul de la similarité cosinus entre test et train\n",
    "similarities = cosine_similarity(X_tfidf_test, X_tfidf_train)\n",
    "\n",
    "# Affichage\n",
    "for i, test_phrase in enumerate(X_test):\n",
    "    print(f\"Test : {test_phrase}\")\n",
    "    for j, train_phrase in enumerate(X_train):\n",
    "        print(f\" ↳ Similaire à : {train_phrase} → score = {similarities[i, j]:.2f}\")\n",
    "    print(\"---\")"
   ]
  },
  {
   "cell_type": "code",
   "execution_count": null,
   "metadata": {
    "colab": {
     "base_uri": "https://localhost:8080/",
     "height": 642
    },
    "executionInfo": {
     "elapsed": 665,
     "status": "ok",
     "timestamp": 1742678732062,
     "user": {
      "displayName": "Mohamed Echcharif EL JAZOULI",
      "userId": "06360884917850205108"
     },
     "user_tz": -60
    },
    "id": "PHv7Eb1zuzAC",
    "outputId": "28923370-6f7c-4b44-a896-d1eba7ed67e2"
   },
   "outputs": [
    {
     "data": {
      "image/png": "[encoded data removed]",
      "text/plain": [
       "<Figure size 1000x700 with 1 Axes>"
      ]
     },
     "metadata": {},
     "output_type": "display_data"
    }
   ],
   "source": [
    "import matplotlib.pyplot as plt\n",
    "from sklearn.feature_extraction.text import TfidfVectorizer\n",
    "from sklearn.decomposition import PCA\n",
    "import numpy as np\n",
    "\n",
    "# Données\n",
    "X_train = [\n",
    "    \"J'adore ce film\",        # positif\n",
    "    \"J'aime pas ce film\"      # négatif\n",
    "]\n",
    "\n",
    "X_test = [\n",
    "    \"J'aime ce film\",         # ambigu\n",
    "    \"J'adore pas ce film\"     # ambigu\n",
    "]\n",
    "\n",
    "# Fusion des données pour traitement et visualisation\n",
    "phrases = X_train + X_test\n",
    "colors = ['green', 'red', 'blue', 'blue']  # vert/rouge pour train, bleu pour test\n",
    "\n",
    "# Vectorisation TF-IDF\n",
    "vectorizer = TfidfVectorizer()\n",
    "X_tfidf = vectorizer.fit_transform(phrases).toarray()\n",
    "\n",
    "# Réduction en 2D avec PCA\n",
    "X_2d = PCA(n_components=2).fit_transform(X_tfidf)\n",
    "\n",
    "# Tracé\n",
    "plt.figure(figsize=(10, 7))\n",
    "origin = np.zeros((len(X_2d), 2))\n",
    "\n",
    "for i in range(len(phrases)):\n",
    "    plt.arrow(0, 0, X_2d[i, 0], X_2d[i, 1],\n",
    "              color=colors[i], alpha=0.6,\n",
    "              head_width=0.02, length_includes_head=True)\n",
    "    plt.text(X_2d[i, 0]*1.05, X_2d[i, 1]*1.05,\n",
    "             phrases[i], fontsize=9, color=colors[i])\n",
    "\n",
    "plt.axhline(0, color='grey', linestyle='--', linewidth=0.5)\n",
    "plt.axvline(0, color='grey', linestyle='--', linewidth=0.5)\n",
    "plt.title(\"Vecteurs TF-IDF projetés en 2D (PCA)\")\n",
    "plt.xlabel(\"PC 1\")\n",
    "plt.ylabel(\"PC 2\")\n",
    "plt.grid(True)\n",
    "plt.axis('equal')\n",
    "plt.show() "
   ]
  },
  {
   "cell_type": "markdown",
   "metadata": {
    "id": "jhpEGGCK8To_"
   },
   "source": [
    "## 📐 Représentation vectorielle : Embedding (Word2Vec)"
   ]
  },
  {
   "cell_type": "code",
   "execution_count": null,
   "metadata": {
    "colab": {
     "base_uri": "https://localhost:8080/"
    },
    "executionInfo": {
     "elapsed": 32856,
     "status": "ok",
     "timestamp": 1742682578301,
     "user": {
      "displayName": "Mohamed Echcharif EL JAZOULI",
      "userId": "06360884917850205108"
     },
     "user_tz": -60
    },
    "id": "UHsbsTN29Ytp",
    "outputId": "60dddc24-f0c7-42d4-838c-57533f71fd3f"
   },
   "outputs": [
    {
     "name": "stdout",
     "output_type": "stream",
     "text": [
      "Collecting numpy\n",
      "  Using cached numpy-2.2.4-cp311-cp311-manylinux_2_17_x86_64.manylinux2014_x86_64.whl.metadata (62 kB)\n",
      "Collecting gensim\n",
      "  Using cached gensim-4.3.3-cp311-cp311-manylinux_2_17_x86_64.manylinux2014_x86_64.whl.metadata (8.1 kB)\n",
      "Collecting numpy\n",
      "  Using cached numpy-1.26.4-cp311-cp311-manylinux_2_17_x86_64.manylinux2014_x86_64.whl.metadata (61 kB)\n",
      "Collecting scipy<1.14.0,>=1.7.0 (from gensim)\n",
      "  Using cached scipy-1.13.1-cp311-cp311-manylinux_2_17_x86_64.manylinux2014_x86_64.whl.metadata (60 kB)\n",
      "Collecting smart-open>=1.8.1 (from gensim)\n",
      "  Using cached smart_open-7.1.0-py3-none-any.whl.metadata (24 kB)\n",
      "Collecting wrapt (from smart-open>=1.8.1->gensim)\n",
      "  Using cached wrapt-1.17.2-cp311-cp311-manylinux_2_5_x86_64.manylinux1_x86_64.manylinux_2_17_x86_64.manylinux2014_x86_64.whl.metadata (6.4 kB)\n",
      "Using cached gensim-4.3.3-cp311-cp311-manylinux_2_17_x86_64.manylinux2014_x86_64.whl (26.7 MB)\n",
      "Using cached numpy-1.26.4-cp311-cp311-manylinux_2_17_x86_64.manylinux2014_x86_64.whl (18.3 MB)\n",
      "Using cached scipy-1.13.1-cp311-cp311-manylinux_2_17_x86_64.manylinux2014_x86_64.whl (38.6 MB)\n",
      "Using cached smart_open-7.1.0-py3-none-any.whl (61 kB)\n",
      "Using cached wrapt-1.17.2-cp311-cp311-manylinux_2_5_x86_64.manylinux1_x86_64.manylinux_2_17_x86_64.manylinux2014_x86_64.whl (83 kB)\n",
      "Installing collected packages: wrapt, numpy, smart-open, scipy, gensim\n",
      "  Attempting uninstall: wrapt\n",
      "    Found existing installation: wrapt 1.17.2\n",
      "    Uninstalling wrapt-1.17.2:\n",
      "      Successfully uninstalled wrapt-1.17.2\n",
      "  Attempting uninstall: numpy\n",
      "    Found existing installation: numpy 1.26.4\n",
      "    Uninstalling numpy-1.26.4:\n",
      "      Successfully uninstalled numpy-1.26.4\n",
      "  Attempting uninstall: smart-open\n",
      "    Found existing installation: smart-open 7.1.0\n",
      "    Uninstalling smart-open-7.1.0:\n",
      "      Successfully uninstalled smart-open-7.1.0\n",
      "  Attempting uninstall: scipy\n",
      "    Found existing installation: scipy 1.13.1\n",
      "    Uninstalling scipy-1.13.1:\n",
      "      Successfully uninstalled scipy-1.13.1\n",
      "  Attempting uninstall: gensim\n",
      "    Found existing installation: gensim 4.3.3\n",
      "    Uninstalling gensim-4.3.3:\n",
      "      Successfully uninstalled gensim-4.3.3\n",
      "Successfully installed gensim-4.3.3 numpy-1.26.4 scipy-1.13.1 smart-open-7.1.0 wrapt-1.17.2\n"
     ]
    }
   ],
   "source": [
    "!pip install --upgrade --force-reinstall numpy gensim"
   ]
  },
  {
   "cell_type": "code",
   "execution_count": null,
   "metadata": {
    "colab": {
     "base_uri": "https://localhost:8080/"
    },
    "executionInfo": {
     "elapsed": 1640,
     "status": "ok",
     "timestamp": 1742682586184,
     "user": {
      "displayName": "Mohamed Echcharif EL JAZOULI",
      "userId": "06360884917850205108"
     },
     "user_tz": -60
    },
    "id": "R0ht8hY6wcBR",
    "outputId": "227efe2f-9148-461d-cb87-895aeff3cf1d"
   },
   "outputs": [
    {
     "name": "stdout",
     "output_type": "stream",
     "text": [
      "Vecteur de 'film' : [-1.0724545e-03  4.7286271e-04  1.0206699e-02  1.8018546e-02\n",
      " -1.8605899e-02 -1.4233618e-02  1.2917745e-02  1.7945977e-02\n",
      " -1.0030856e-02 -7.5267432e-03  1.4761009e-02 -3.0669428e-03\n",
      " -9.0732267e-03  1.3108104e-02 -9.7203208e-03 -3.6320353e-03\n",
      "  5.7531595e-03  1.9837476e-03 -1.6570430e-02 -1.8897636e-02\n",
      "  1.4623532e-02  1.0140524e-02  1.3515387e-02  1.5257311e-03\n",
      "  1.2701781e-02 -6.8107317e-03 -1.8928028e-03  1.1537147e-02\n",
      " -1.5043275e-02 -7.8722071e-03 -1.5023164e-02 -1.8600845e-03\n",
      "  1.9076237e-02 -1.4638334e-02 -4.6675373e-03 -3.8754821e-03\n",
      "  1.6154874e-02 -1.1861792e-02  9.0324880e-05 -9.5074680e-03\n",
      " -1.9207101e-02  1.0014586e-02 -1.7519170e-02 -8.7836506e-03\n",
      " -7.0199967e-05 -5.9236289e-04 -1.5322480e-02  1.9229487e-02\n",
      "  9.9641159e-03  1.8466286e-02]\n",
      "Mots proches de 'film' : [('génial', 0.16704076528549194), ('un', 0.13204392790794373), ('est', 0.1267007291316986), ('déteste', 0.0998455286026001), ('ce', 0.042373016476631165), ('nul', 0.012442179024219513), ('je', -0.012574631720781326), ('incroyable', -0.01447527389973402), (\"c'était\", -0.056076522916555405), ('magnifique', -0.05974648892879486)]\n"
     ]
    }
   ],
   "source": [
    "from gensim.models import Word2Vec\n",
    "\n",
    "# Corpus simple (chaque phrase est une liste de mots)\n",
    "corpus = [\n",
    "    [\"ce\", \"film\", \"est\", \"génial\"],\n",
    "    [\"je\", \"déteste\", \"ce\", \"film\"],\n",
    "    [\"c'était\", \"un\", \"film\", \"magnifique\"],\n",
    "    [\"ce\", \"film\", \"est\", \"nul\"],\n",
    "    [\"ce\", \"film\", \"était\", \"incroyable\"]\n",
    "]\n",
    "\n",
    "# Entraînement du modèle\n",
    "model = Word2Vec(sentences=corpus, vector_size=50, window=2, min_count=1, sg=1)  # sg=1 → skip-gram\n",
    "\n",
    "# Exemple : obtenir le vecteur du mot \"film\"\n",
    "print(\"Vecteur de 'film' :\", model.wv[\"film\"])\n",
    "\n",
    "# Trouver les mots proches\n",
    "print(\"Mots proches de 'film' :\", model.wv.most_similar(\"film\"))"
   ]
  },
  {
   "cell_type": "code",
   "execution_count": null,
   "metadata": {
    "colab": {
     "base_uri": "https://localhost:8080/"
    },
    "executionInfo": {
     "elapsed": 54951,
     "status": "ok",
     "timestamp": 1742683004311,
     "user": {
      "displayName": "Mohamed Echcharif EL JAZOULI",
      "userId": "06360884917850205108"
     },
     "user_tz": -60
    },
    "id": "iabz_PmQ8Smv",
    "outputId": "7057734d-729a-48b6-fad1-1f03c33ef7fe"
   },
   "outputs": [
    {
     "name": "stdout",
     "output_type": "stream",
     "text": [
      "--2025-03-22 22:35:49--  https://dl.fbaipublicfiles.com/fasttext/vectors-crawl/cc.fr.300.vec.gz\n",
      "Resolving dl.fbaipublicfiles.com (dl.fbaipublicfiles.com)... 13.33.183.115, 13.33.183.33, 13.33.183.29, ...\n",
      "Connecting to dl.fbaipublicfiles.com (dl.fbaipublicfiles.com)|13.33.183.115|:443... connected.\n",
      "HTTP request sent, awaiting response... 200 OK\n",
      "Length: 1287757366 (1.2G) [binary/octet-stream]\n",
      "Saving to: ‘cc.fr.300.vec.gz’\n",
      "\n",
      "cc.fr.300.vec.gz    100%[===================>]   1.20G  22.8MB/s    in 54s     \n",
      "\n",
      "2025-03-22 22:36:44 (22.7 MB/s) - ‘cc.fr.300.vec.gz’ saved [1287757366/1287757366]\n",
      "\n"
     ]
    }
   ],
   "source": [
    "#Utilisation d'un modele pre-entraine\n",
    "!wget -O cc.fr.300.vec.gz https://dl.fbaipublicfiles.com/fasttext/vectors-crawl/cc.fr.300.vec.gz"
   ]
  },
  {
   "cell_type": "code",
   "execution_count": null,
   "metadata": {
    "colab": {
     "base_uri": "https://localhost:8080/"
    },
    "executionInfo": {
     "elapsed": 470908,
     "status": "ok",
     "timestamp": 1742683480689,
     "user": {
      "displayName": "Mohamed Echcharif EL JAZOULI",
      "userId": "06360884917850205108"
     },
     "user_tz": -60
    },
    "id": "nyd76gV__dfs",
    "outputId": "7262a0fd-f2ea-40fa-b5b2-96a8c9ce28aa"
   },
   "outputs": [
    {
     "data": {
      "text/plain": [
       "0.72753644"
      ]
     },
     "execution_count": 5,
     "metadata": {},
     "output_type": "execute_result"
    }
   ],
   "source": [
    "from gensim.models import KeyedVectors\n",
    "model = KeyedVectors.load_word2vec_format('cc.fr.300.vec.gz', binary=False)\n",
    "\n",
    "model.similarity(\"chat\", \"chien\")"
   ]
  },
  {
   "cell_type": "code",
   "execution_count": null,
   "metadata": {
    "colab": {
     "base_uri": "https://localhost:8080/"
    },
    "executionInfo": {
     "elapsed": 446,
     "status": "ok",
     "timestamp": 1742683493424,
     "user": {
      "displayName": "Mohamed Echcharif EL JAZOULI",
      "userId": "06360884917850205108"
     },
     "user_tz": -60
    },
    "id": "2_y-3Pi5AG7T",
    "outputId": "7171ec89-89d4-4eb3-8bf3-7105439d91dd"
   },
   "outputs": [
    {
     "data": {
      "text/plain": [
       "[('Roi', 0.843011200428009),\n",
       " ('monarque', 0.7603071331977844),\n",
       " ('souverain', 0.724419891834259),\n",
       " ('royaume', 0.7038922309875488),\n",
       " ('prince', 0.7036827206611633),\n",
       " ('rois', 0.6541060209274292),\n",
       " ('reine', 0.6316980719566345),\n",
       " ('duc', 0.6201280355453491),\n",
       " ('roi.', 0.612676739692688),\n",
       " ('roy', 0.6117520928382874)]"
      ]
     },
     "execution_count": 6,
     "metadata": {},
     "output_type": "execute_result"
    }
   ],
   "source": [
    "model.most_similar(\"roi\")"
   ]
  },
  {
   "cell_type": "code",
   "execution_count": null,
   "metadata": {
    "colab": {
     "base_uri": "https://localhost:8080/"
    },
    "executionInfo": {
     "elapsed": 405017,
     "status": "ok",
     "timestamp": 1742684165604,
     "user": {
      "displayName": "Mohamed Echcharif EL JAZOULI",
      "userId": "06360884917850205108"
     },
     "user_tz": -60
    },
    "id": "h6uEKSnWB9D9",
    "outputId": "30208ad6-96d6-4de6-daba-1c4b4b97ce18"
   },
   "outputs": [
    {
     "name": "stdout",
     "output_type": "stream",
     "text": [
      "[==================================================] 100.0% 1662.8/1662.8MB downloaded\n"
     ]
    }
   ],
   "source": [
    "# Autre Exemple\n",
    "\n",
    "from gensim.downloader import load\n",
    "\n",
    "# Cela télécharge automatiquement le modèle GoogleNews-vectors-negative300 (~1.6 GB)\n",
    "model = load(\"word2vec-google-news-300\")\n"
   ]
  },
  {
   "cell_type": "code",
   "execution_count": null,
   "metadata": {
    "colab": {
     "base_uri": "https://localhost:8080/"
    },
    "executionInfo": {
     "elapsed": 21532,
     "status": "ok",
     "timestamp": 1742684191011,
     "user": {
      "displayName": "Mohamed Echcharif EL JAZOULI",
      "userId": "06360884917850205108"
     },
     "user_tz": -60
    },
    "id": "v7IW7ZCnC-ZW",
    "outputId": "0f4647b4-eb6a-41c9-a798-f323edeae70f"
   },
   "outputs": [
    {
     "name": "stdout",
     "output_type": "stream",
     "text": [
      "king - man + woman ≈ queen\n"
     ]
    }
   ],
   "source": [
    "result = model.most_similar(positive=[\"king\", \"woman\"], negative=[\"man\"], topn=1)\n",
    "print(\"king - man + woman ≈\", result[0][0])"
   ]
  },
  {
   "cell_type": "markdown",
   "metadata": {
    "id": "t4IpwtvGGRmO"
   },
   "source": [
    "# ✅ Outil utilisé : pytesseract + Pillow + image upload\n",
    "\n"
   ]
  },
  {
   "cell_type": "code",
   "execution_count": null,
   "metadata": {
    "colab": {
     "base_uri": "https://localhost:8080/"
    },
    "executionInfo": {
     "elapsed": 28299,
     "status": "ok",
     "timestamp": 1742768567756,
     "user": {
      "displayName": "Mohamed Echcharif EL JAZOULI",
      "userId": "06360884917850205108"
     },
     "user_tz": -60
    },
    "id": "doCfYxi9EiNu",
    "outputId": "309a0915-33fe-43b1-e15e-3c85e1012676"
   },
   "outputs": [
    {
     "name": "stdout",
     "output_type": "stream",
     "text": [
      "Reading package lists... Done\n",
      "Building dependency tree... Done\n",
      "Reading state information... Done\n",
      "The following additional packages will be installed:\n",
      "  tesseract-ocr-eng tesseract-ocr-osd\n",
      "The following NEW packages will be installed:\n",
      "  tesseract-ocr tesseract-ocr-eng tesseract-ocr-osd\n",
      "0 upgraded, 3 newly installed, 0 to remove and 29 not upgraded.\n",
      "Need to get 4,816 kB of archives.\n",
      "After this operation, 15.6 MB of additional disk space will be used.\n",
      "Get:1 http://archive.ubuntu.com/ubuntu jammy/universe amd64 tesseract-ocr-eng all 1:4.00~git30-7274cfa-1.1 [1,591 kB]\n",
      "Get:2 http://archive.ubuntu.com/ubuntu jammy/universe amd64 tesseract-ocr-osd all 1:4.00~git30-7274cfa-1.1 [2,990 kB]\n",
      "Get:3 http://archive.ubuntu.com/ubuntu jammy/universe amd64 tesseract-ocr amd64 4.1.1-2.1build1 [236 kB]\n",
      "Fetched 4,816 kB in 1s (4,894 kB/s)\n",
      "debconf: unable to initialize frontend: Dialog\n",
      "debconf: (No usable dialog-like program is installed, so the dialog based frontend cannot be used. at /usr/share/perl5/Debconf/FrontEnd/Dialog.pm line 78, <> line 3.)\n",
      "debconf: falling back to frontend: Readline\n",
      "debconf: unable to initialize frontend: Readline\n",
      "debconf: (This frontend requires a controlling tty.)\n",
      "debconf: falling back to frontend: Teletype\n",
      "dpkg-preconfigure: unable to re-open stdin: \n",
      "Selecting previously unselected package tesseract-ocr-eng.\n",
      "(Reading database ... 126209 files and directories currently installed.)\n",
      "Preparing to unpack .../tesseract-ocr-eng_1%3a4.00~git30-7274cfa-1.1_all.deb ...\n",
      "Unpacking tesseract-ocr-eng (1:4.00~git30-7274cfa-1.1) ...\n",
      "Selecting previously unselected package tesseract-ocr-osd.\n",
      "Preparing to unpack .../tesseract-ocr-osd_1%3a4.00~git30-7274cfa-1.1_all.deb ...\n",
      "Unpacking tesseract-ocr-osd (1:4.00~git30-7274cfa-1.1) ...\n",
      "Selecting previously unselected package tesseract-ocr.\n",
      "Preparing to unpack .../tesseract-ocr_4.1.1-2.1build1_amd64.deb ...\n",
      "Unpacking tesseract-ocr (4.1.1-2.1build1) ...\n",
      "Setting up tesseract-ocr-eng (1:4.00~git30-7274cfa-1.1) ...\n",
      "Setting up tesseract-ocr-osd (1:4.00~git30-7274cfa-1.1) ...\n",
      "Setting up tesseract-ocr (4.1.1-2.1build1) ...\n",
      "Processing triggers for man-db (2.10.2-1) ...\n",
      "Collecting pytesseract\n",
      "  Downloading pytesseract-0.3.13-py3-none-any.whl.metadata (11 kB)\n",
      "Requirement already satisfied: pillow in /usr/local/lib/python3.11/dist-packages (11.1.0)\n",
      "Requirement already satisfied: packaging>=21.3 in /usr/local/lib/python3.11/dist-packages (from pytesseract) (24.2)\n",
      "Downloading pytesseract-0.3.13-py3-none-any.whl (14 kB)\n",
      "Installing collected packages: pytesseract\n",
      "Successfully installed pytesseract-0.3.13\n"
     ]
    }
   ],
   "source": [
    "!sudo apt install tesseract-ocr\n",
    "!pip install pytesseract pillow"
   ]
  },
  {
   "cell_type": "code",
   "execution_count": null,
   "metadata": {
    "id": "Gs7zBk5jGWtL"
   },
   "outputs": [],
   "source": [
    "import pytesseract\n",
    "from PIL import Image\n",
    "from google.colab import files"
   ]
  },
  {
   "cell_type": "code",
   "execution_count": null,
   "metadata": {
    "colab": {
     "base_uri": "https://localhost:8080/",
     "height": 74
    },
    "executionInfo": {
     "elapsed": 29246,
     "status": "ok",
     "timestamp": 1742769016336,
     "user": {
      "displayName": "Mohamed Echcharif EL JAZOULI",
      "userId": "06360884917850205108"
     },
     "user_tz": -60
    },
    "id": "zQvVGajTGdlI",
    "outputId": "bb6c2ccc-e4be-4d4b-bc1d-782a1e7cc2b3"
   },
   "outputs": [
    {
     "data": {
      "text/html": [
       "\n",
       "     <input type=\"file\" id=\"files-b532f3e6-95a9-496a-953a-9c638a9f7eea\" name=\"files[]\" multiple disabled\n",
       "        style=\"border:none\" />\n",
       "     <output id=\"result-b532f3e6-95a9-496a-953a-9c638a9f7eea\">\n",
       "      Upload widget is only available when the cell has been executed in the\n",
       "      current browser session. Please rerun this cell to enable.\n",
       "      </output>\n",
       "      <script>// Copyright 2017 Google LLC\n",
       "//\n",
       "// Licensed under the Apache License, Version 2.0 (the \"License\");\n",
       "// you may not use this file except in compliance with the License.\n",
       "// You may obtain a copy of the License at\n",
       "//\n",
       "//      http://www.apache.org/licenses/LICENSE-2.0\n",
       "//\n",
       "// Unless required by applicable law or agreed to in writing, software\n",
       "// distributed under the License is distributed on an \"AS IS\" BASIS,\n",
       "// WITHOUT WARRANTIES OR CONDITIONS OF ANY KIND, either express or implied.\n",
       "// See the License for the specific language governing permissions and\n",
       "// limitations under the License.\n",
       "\n",
       "/**\n",
       " * @fileoverview Helpers for google.colab Python module.\n",
       " */\n",
       "(function(scope) {\n",
       "function span(text, styleAttributes = {}) {\n",
       "  const element = document.createElement('span');\n",
       "  element.textContent = text;\n",
       "  for (const key of Object.keys(styleAttributes)) {\n",
       "    element.style[key] = styleAttributes[key];\n",
       "  }\n",
       "  return element;\n",
       "}\n",
       "\n",
       "// Max number of bytes which will be uploaded at a time.\n",
       "const MAX_PAYLOAD_SIZE = 100 * 1024;\n",
       "\n",
       "function _uploadFiles(inputId, outputId) {\n",
       "  const steps = uploadFilesStep(inputId, outputId);\n",
       "  const outputElement = document.getElementById(outputId);\n",
       "  // Cache steps on the outputElement to make it available for the next call\n",
       "  // to uploadFilesContinue from Python.\n",
       "  outputElement.steps = steps;\n",
       "\n",
       "  return _uploadFilesContinue(outputId);\n",
       "}\n",
       "\n",
       "// This is roughly an async generator (not supported in the browser yet),\n",
       "// where there are multiple asynchronous steps and the Python side is going\n",
       "// to poll for completion of each step.\n",
       "// This uses a Promise to block the python side on completion of each step,\n",
       "// then passes the result of the previous step as the input to the next step.\n",
       "function _uploadFilesContinue(outputId) {\n",
       "  const outputElement = document.getElementById(outputId);\n",
       "  const steps = outputElement.steps;\n",
       "\n",
       "  const next = steps.next(outputElement.lastPromiseValue);\n",
       "  return Promise.resolve(next.value.promise).then((value) => {\n",
       "    // Cache the last promise value to make it available to the next\n",
       "    // step of the generator.\n",
       "    outputElement.lastPromiseValue = value;\n",
       "    return next.value.response;\n",
       "  });\n",
       "}\n",
       "\n",
       "/**\n",
       " * Generator function which is called between each async step of the upload\n",
       " * process.\n",
       " * @param {string} inputId Element ID of the input file picker element.\n",
       " * @param {string} outputId Element ID of the output display.\n",
       " * @return {!Iterable<!Object>} Iterable of next steps.\n",
       " */\n",
       "function* uploadFilesStep(inputId, outputId) {\n",
       "  const inputElement = document.getElementById(inputId);\n",
       "  inputElement.disabled = false;\n",
       "\n",
       "  const outputElement = document.getElementById(outputId);\n",
       "  outputElement.innerHTML = '';\n",
       "\n",
       "  const pickedPromise = new Promise((resolve) => {\n",
       "    inputElement.addEventListener('change', (e) => {\n",
       "      resolve(e.target.files);\n",
       "    });\n",
       "  });\n",
       "\n",
       "  const cancel = document.createElement('button');\n",
       "  inputElement.parentElement.appendChild(cancel);\n",
       "  cancel.textContent = 'Cancel upload';\n",
       "  const cancelPromise = new Promise((resolve) => {\n",
       "    cancel.onclick = () => {\n",
       "      resolve(null);\n",
       "    };\n",
       "  });\n",
       "\n",
       "  // Wait for the user to pick the files.\n",
       "  const files = yield {\n",
       "    promise: Promise.race([pickedPromise, cancelPromise]),\n",
       "    response: {\n",
       "      action: 'starting',\n",
       "    }\n",
       "  };\n",
       "\n",
       "  cancel.remove();\n",
       "\n",
       "  // Disable the input element since further picks are not allowed.\n",
       "  inputElement.disabled = true;\n",
       "\n",
       "  if (!files) {\n",
       "    return {\n",
       "      response: {\n",
       "        action: 'complete',\n",
       "      }\n",
       "    };\n",
       "  }\n",
       "\n",
       "  for (const file of files) {\n",
       "    const li = document.createElement('li');\n",
       "    li.append(span(file.name, {fontWeight: 'bold'}));\n",
       "    li.append(span(\n",
       "        `(${file.type || 'n/a'}) - ${file.size} bytes, ` +\n",
       "        `last modified: ${\n",
       "            file.lastModifiedDate ? file.lastModifiedDate.toLocaleDateString() :\n",
       "                                    'n/a'} - `));\n",
       "    const percent = span('0% done');\n",
       "    li.appendChild(percent);\n",
       "\n",
       "    outputElement.appendChild(li);\n",
       "\n",
       "    const fileDataPromise = new Promise((resolve) => {\n",
       "      const reader = new FileReader();\n",
       "      reader.onload = (e) => {\n",
       "        resolve(e.target.result);\n",
       "      };\n",
       "      reader.readAsArrayBuffer(file);\n",
       "    });\n",
       "    // Wait for the data to be ready.\n",
       "    let fileData = yield {\n",
       "      promise: fileDataPromise,\n",
       "      response: {\n",
       "        action: 'continue',\n",
       "      }\n",
       "    };\n",
       "\n",
       "    // Use a chunked sending to avoid message size limits. See b/62115660.\n",
       "    let position = 0;\n",
       "    do {\n",
       "      const length = Math.min(fileData.byteLength - position, MAX_PAYLOAD_SIZE);\n",
       "      const chunk = new Uint8Array(fileData, position, length);\n",
       "      position += length;\n",
       "\n",
       "      const base64 = btoa(String.fromCharCode.apply(null, chunk));\n",
       "      yield {\n",
       "        response: {\n",
       "          action: 'append',\n",
       "          file: file.name,\n",
       "          data: base64,\n",
       "        },\n",
       "      };\n",
       "\n",
       "      let percentDone = fileData.byteLength === 0 ?\n",
       "          100 :\n",
       "          Math.round((position / fileData.byteLength) * 100);\n",
       "      percent.textContent = `${percentDone}% done`;\n",
       "\n",
       "    } while (position < fileData.byteLength);\n",
       "  }\n",
       "\n",
       "  // All done.\n",
       "  yield {\n",
       "    response: {\n",
       "      action: 'complete',\n",
       "    }\n",
       "  };\n",
       "}\n",
       "\n",
       "scope.google = scope.google || {};\n",
       "scope.google.colab = scope.google.colab || {};\n",
       "scope.google.colab._files = {\n",
       "  _uploadFiles,\n",
       "  _uploadFilesContinue,\n",
       "};\n",
       "})(self);\n",
       "</script> "
      ],
      "text/plain": [
       "<IPython.core.display.HTML object>"
      ]
     },
     "metadata": {},
     "output_type": "display_data"
    },
    {
     "name": "stdout",
     "output_type": "stream",
     "text": [
      "Saving test_nlp.png to test_nlp.png\n"
     ]
    }
   ],
   "source": [
    "uploaded = files.upload()\n",
    "# Par exemple : image nommée 'ocr_test.png'"
   ]
  },
  {
   "cell_type": "code",
   "execution_count": null,
   "metadata": {
    "colab": {
     "base_uri": "https://localhost:8080/"
    },
    "executionInfo": {
     "elapsed": 6334,
     "status": "ok",
     "timestamp": 1742769032859,
     "user": {
      "displayName": "Mohamed Echcharif EL JAZOULI",
      "userId": "06360884917850205108"
     },
     "user_tz": -60
    },
    "id": "PmeaRgmwHU2B",
    "outputId": "16b8c0bb-0bf7-472d-f043-f88a8e6f71e6"
   },
   "outputs": [
    {
     "name": "stdout",
     "output_type": "stream",
     "text": [
      "Texte détecté dans l'image :\n",
      "\n",
      "Table of Contents\n",
      "\n",
      " \n",
      "\n",
      "Hi\n",
      "\n",
      "SHS BRBOORREeof\n",
      "\n",
      "Vue D’ensemble\n",
      "\n",
      "Introduction au NLP\n",
      "\n",
      "Prétraitement de Texte\n",
      "\n",
      "Représentation vectorielle du texte\n",
      "Embeddings contextuels\n",
      "\n",
      "Mesure et Distance\n",
      "\n",
      "Modéles avancés : Transformers\n",
      "\n",
      "Lien entre Transformers, BERT et GPT\n",
      "Modéles classiques en NLP\n",
      "\n",
      "Transformer et modéles de langage avancés\n",
      "Evaluation des modéles NLP\n",
      "Implémentation pratique\n",
      "\n",
      "Reconnaissance Optique de Caractéres (OCR)\n",
      "Projets pratiques en classe\n",
      "\f\n"
     ]
    }
   ],
   "source": [
    "# Ouvre l'image\n",
    "image = Image.open('test_nlp.png')\n",
    "\n",
    "# Applique OCR avec pytesseract\n",
    "text = pytesseract.image_to_string(image)\n",
    "\n",
    "# Affiche le texte détecté\n",
    "print(\"Texte détecté dans l'image :\\n\")\n",
    "print(text)"
   ]
  },
  {
   "cell_type": "code",
   "execution_count": null,
   "metadata": {
    "id": "3hYmWmQ1Hegn"
   },
   "outputs": [],
   "source": []
  }
 ],
 "metadata": {
  "colab": {
   "name": "",
   "version": ""
  },
  "kernelspec": {
   "display_name": "base",
   "language": "python",
   "name": "python3"
  },
  "language_info": {
   "codemirror_mode": {
    "name": "ipython",
    "version": 3
   },
   "file_extension": ".py",
   "mimetype": "text/x-python",
   "name": "python",
   "nbconvert_exporter": "python",
   "pygments_lexer": "ipython3",
   "version": "3.12.3"
  }
 },
 "nbformat": 4,
 "nbformat_minor": 0
}
